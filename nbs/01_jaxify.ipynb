{
 "cells": [
  {
   "attachments": {},
   "cell_type": "markdown",
   "metadata": {},
   "source": [
    "# jaxify\n",
    "\n",
    "> Make autograd functionality compatible to JAX"
   ]
  },
  {
   "cell_type": "code",
   "execution_count": null,
   "metadata": {},
   "outputs": [],
   "source": [
    "#| default_exp jaxify"
   ]
  },
  {
   "cell_type": "code",
   "execution_count": null,
   "metadata": {},
   "outputs": [],
   "source": [
    "#| exporti\n",
    "from ceviche import jacobian\n",
    "import numpy as np\n",
    "import jax\n",
    "import jax.numpy as jnp"
   ]
  },
  {
   "cell_type": "code",
   "execution_count": null,
   "metadata": {},
   "outputs": [],
   "source": [
    "#| export\n",
    "def jaxit(mode='reverse', argnums=[0]):\n",
    "  def inner(function):\n",
    "    \"\"\"\n",
    "    make a function that internally uses autograd compatible to jax gradient calculations\n",
    "    only a single output variable is supported\n",
    "    \"\"\"\n",
    "    grad_fns = [jacobian(function, mode=mode, argnum=i) for i in argnums]\n",
    "\n",
    "    @jax.custom_jvp\n",
    "    def jaxed(*args):\n",
    "      return function(*args)\n",
    "    \n",
    "    @jaxed.defjvp\n",
    "    def jaxed_jvp(primals, tangents):\n",
    "      primals_out = jaxed(*primals)\n",
    "      as_np = [np.asarray(prim) for prim in primals]\n",
    "      grads = [jnp.array(grad_fns[i](*as_np)) for i in argnums]\n",
    "\n",
    "      # if len(tangents) > len(grads):\n",
    "      #   raise RuntimeError(\"passed `num_args` is lower than the actual number of arguments\")\n",
    "      \n",
    "      contributions = jnp.array([jnp.dot(grads[i],tangents[i].flatten()) for i in argnums])\n",
    "  \n",
    "      return primals_out, jnp.sum(contributions)\n",
    "    return jaxed\n",
    "  return inner\n"
   ]
  },
  {
   "cell_type": "code",
   "execution_count": null,
   "metadata": {},
   "outputs": [],
   "source": [
    "#| hide\n",
    "import nbdev; nbdev.nbdev_export()"
   ]
  }
 ],
 "metadata": {
  "kernelspec": {
   "display_name": "nbdev",
   "language": "python",
   "name": "python3"
  }
 },
 "nbformat": 4,
 "nbformat_minor": 4
}
