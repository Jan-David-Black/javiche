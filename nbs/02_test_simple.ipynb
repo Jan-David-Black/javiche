{
 "cells": [
  {
   "attachments": {},
   "cell_type": "markdown",
   "metadata": {},
   "source": [
    "# Simple Tests\n",
    "> some simple tests to check whether the fundamental functionality is working\n",
    "\n",
    "The tests include functions with multiple inputs"
   ]
  },
  {
   "cell_type": "code",
   "execution_count": null,
   "metadata": {},
   "outputs": [],
   "source": [
    "from javiche import jaxit\n",
    "from jax import grad"
   ]
  },
  {
   "cell_type": "code",
   "execution_count": null,
   "metadata": {},
   "outputs": [],
   "source": [
    "%load_ext autoreload\n",
    "%autoreload 2"
   ]
  },
  {
   "cell_type": "code",
   "execution_count": null,
   "metadata": {},
   "outputs": [],
   "source": [
    "@jaxit(argnums=[0,1])\n",
    "def plus(A, B):\n",
    "  \"\"\"adds two numbers/arrays\"\"\"\n",
    "  return A+B\n",
    "\n",
    "@jaxit(argnums=[0,1])\n",
    "def times(A, B):\n",
    "  \"\"\"multiplies two numbers/arrays\"\"\"\n",
    "  return A*B\n",
    "\n",
    "@jaxit() #equivalent to @jaxit(argnums=[0])\n",
    "def square(A):\n",
    "  \"\"\"squares number/array\"\"\"\n",
    "  return A**2"
   ]
  },
  {
   "cell_type": "code",
   "execution_count": null,
   "metadata": {},
   "outputs": [],
   "source": [
    "assert grad(plus, argnums=[0,1])(2.0,2.0) == (1,1)"
   ]
  },
  {
   "cell_type": "code",
   "execution_count": null,
   "metadata": {},
   "outputs": [],
   "source": [
    "assert grad(times, argnums=[0,1])(2.0,3.0) == (3,2)"
   ]
  },
  {
   "cell_type": "code",
   "execution_count": null,
   "metadata": {},
   "outputs": [],
   "source": [
    "assert grad(square, argnums=0)(2.0) == 4"
   ]
  }
 ],
 "metadata": {
  "kernelspec": {
   "display_name": "nbdev",
   "language": "python",
   "name": "python3"
  }
 },
 "nbformat": 4,
 "nbformat_minor": 2
}
