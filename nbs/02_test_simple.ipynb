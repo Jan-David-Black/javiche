{
 "cells": [
  {
   "cell_type": "code",
   "execution_count": null,
   "metadata": {},
   "outputs": [],
   "source": [
    "from javiche import jaxit\n",
    "from jax import grad"
   ]
  },
  {
   "cell_type": "code",
   "execution_count": null,
   "metadata": {},
   "outputs": [
    {
     "name": "stdout",
     "output_type": "stream",
     "text": [
      "The autoreload extension is already loaded. To reload it, use:\n",
      "  %reload_ext autoreload\n"
     ]
    }
   ],
   "source": [
    "%load_ext autoreload\n",
    "%autoreload 2"
   ]
  },
  {
   "cell_type": "code",
   "execution_count": null,
   "metadata": {},
   "outputs": [],
   "source": [
    "@jaxit(argnums=[0,1])\n",
    "def plus(A, B):\n",
    "  \"\"\"adds two numbers/arrays\"\"\"\n",
    "  return A+B\n",
    "\n",
    "@jaxit(argnums=[0,1])\n",
    "def times(A, B):\n",
    "  \"\"\"multiplies two numbers/arrays\"\"\"\n",
    "  return A*B\n",
    "\n",
    "@jaxit() #equivalent to @jaxit(argnums=[0])\n",
    "def square(A):\n",
    "  \"\"\"squares number/array\"\"\"\n",
    "  return A**2"
   ]
  },
  {
   "cell_type": "code",
   "execution_count": null,
   "metadata": {},
   "outputs": [
    {
     "data": {
      "text/plain": [
       "(Array(1., dtype=float32, weak_type=True),\n",
       " Array(1., dtype=float32, weak_type=True))"
      ]
     },
     "execution_count": null,
     "metadata": {},
     "output_type": "execute_result"
    }
   ],
   "source": [
    "grad(plus, argnums=[0,1])(2.0,2.0)"
   ]
  },
  {
   "cell_type": "code",
   "execution_count": null,
   "metadata": {},
   "outputs": [
    {
     "data": {
      "text/plain": [
       "(Array(3., dtype=float32, weak_type=True),\n",
       " Array(2., dtype=float32, weak_type=True))"
      ]
     },
     "execution_count": null,
     "metadata": {},
     "output_type": "execute_result"
    }
   ],
   "source": [
    "grad(times, argnums=[0,1])(2.0,3.0)"
   ]
  },
  {
   "cell_type": "code",
   "execution_count": null,
   "metadata": {},
   "outputs": [
    {
     "data": {
      "text/plain": [
       "(Array(4., dtype=float32, weak_type=True),)"
      ]
     },
     "execution_count": null,
     "metadata": {},
     "output_type": "execute_result"
    }
   ],
   "source": [
    "grad(square, argnums=[0])(2.0)"
   ]
  },
  {
   "cell_type": "code",
   "execution_count": null,
   "metadata": {},
   "outputs": [],
   "source": []
  }
 ],
 "metadata": {
  "kernelspec": {
   "display_name": "nbdev",
   "language": "python",
   "name": "python3"
  }
 },
 "nbformat": 4,
 "nbformat_minor": 2
}
